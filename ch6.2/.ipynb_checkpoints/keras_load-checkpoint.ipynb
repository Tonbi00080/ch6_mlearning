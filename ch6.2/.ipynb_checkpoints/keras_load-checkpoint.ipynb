{
 "cells": [
  {
   "cell_type": "code",
   "execution_count": null,
   "metadata": {},
   "outputs": [],
   "source": [
    "from sklearn import datasets\n",
    "import kearas \n",
    "from keras.models import load_model\n",
    "from keras.utils.np_utils import to_categorical\n",
    "\n",
    "# アヤメのサンプルデータ読み込み\n",
    "iris = datasets.load_iris()\n",
    "in_size = 4\n",
    "nb_classes = 3\n",
    "# ラベルデータをone-hotベクトルに直す\n",
    "x = iris.data\n",
    "y = to_categorical(iris.target, nb_classes)\n",
    "\n",
    "# モデルを読み込む\n",
    "model = load_model('iris_model.h5')\n",
    "# 重みデータを読み込む\n",
    "model.load_weights('iris_weight.h5')\n",
    "\n",
    "# モデルを評価\n",
    "score = model.evaluate(x,y, verbose=1)\n",
    "print(\"正解率：\",score[1],\"loss：\", score[0])"
   ]
  }
 ],
 "metadata": {
  "kernelspec": {
   "display_name": "Python 3",
   "language": "python",
   "name": "python3"
  },
  "language_info": {
   "codemirror_mode": {
    "name": "ipython",
    "version": 3
   },
   "file_extension": ".py",
   "mimetype": "text/x-python",
   "name": "python",
   "nbconvert_exporter": "python",
   "pygments_lexer": "ipython3",
   "version": "3.5.4"
  }
 },
 "nbformat": 4,
 "nbformat_minor": 2
}
