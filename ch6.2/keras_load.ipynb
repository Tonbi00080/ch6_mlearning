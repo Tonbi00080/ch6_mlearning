{
 "cells": [
  {
   "cell_type": "code",
   "execution_count": 2,
   "metadata": {},
   "outputs": [
    {
     "name": "stderr",
     "output_type": "stream",
     "text": [
      "/Users/yuki-t/.pyenv/versions/anaconda3-5.0.0/envs/py35/lib/python3.5/site-packages/h5py/__init__.py:36: FutureWarning: Conversion of the second argument of issubdtype from `float` to `np.floating` is deprecated. In future, it will be treated as `np.float64 == np.dtype(float).type`.\n",
      "  from ._conv import register_converters as _register_converters\n",
      "Using TensorFlow backend.\n",
      "/Users/yuki-t/.pyenv/versions/anaconda3-5.0.0/envs/py35/lib/python3.5/importlib/_bootstrap.py:222: RuntimeWarning: compiletime version 3.6 of module 'tensorflow.python.framework.fast_tensor_util' does not match runtime version 3.5\n",
      "  return f(*args, **kwds)\n"
     ]
    },
    {
     "name": "stdout",
     "output_type": "stream",
     "text": [
      "150/150 [==============================] - 0s 202us/step\n",
      "正解率： 0.9666666666666667 loss： 0.07874664560037975\n"
     ]
    }
   ],
   "source": [
    "from sklearn import datasets\n",
    "import keras \n",
    "from keras.models import load_model\n",
    "from keras.utils.np_utils import to_categorical\n",
    "\n",
    "# アヤメのサンプルデータ読み込み\n",
    "iris = datasets.load_iris()\n",
    "in_size = 4\n",
    "nb_classes = 3\n",
    "# ラベルデータをone-hotベクトルに直す\n",
    "x = iris.data\n",
    "y = to_categorical(iris.target, nb_classes)\n",
    "\n",
    "# モデルを読み込む\n",
    "model = load_model('iris_model.h5')\n",
    "# 重みデータを読み込む\n",
    "model.load_weights('iris_weight.h5')\n",
    "\n",
    "# モデルを評価\n",
    "score = model.evaluate(x,y, verbose=1)\n",
    "print(\"正解率：\",score[1],\"loss：\", score[0])"
   ]
  },
  {
   "cell_type": "code",
   "execution_count": null,
   "metadata": {},
   "outputs": [],
   "source": []
  }
 ],
 "metadata": {
  "kernelspec": {
   "display_name": "Python 3",
   "language": "python",
   "name": "python3"
  },
  "language_info": {
   "codemirror_mode": {
    "name": "ipython",
    "version": 3
   },
   "file_extension": ".py",
   "mimetype": "text/x-python",
   "name": "python",
   "nbconvert_exporter": "python",
   "pygments_lexer": "ipython3",
   "version": "3.5.4"
  }
 },
 "nbformat": 4,
 "nbformat_minor": 2
}
